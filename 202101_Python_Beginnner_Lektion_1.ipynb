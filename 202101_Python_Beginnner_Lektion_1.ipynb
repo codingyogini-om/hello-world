{
  "nbformat": 4,
  "nbformat_minor": 0,
  "metadata": {
    "colab": {
      "name": "202101_Python_Beginnner_Lektion_1.ipynb",
      "provenance": [],
      "collapsed_sections": [],
      "include_colab_link": true
    },
    "kernelspec": {
      "name": "python3",
      "display_name": "Python 3"
    }
  },
  "cells": [
    {
      "cell_type": "markdown",
      "metadata": {
        "id": "view-in-github",
        "colab_type": "text"
      },
      "source": [
        "<a href=\"https://colab.research.google.com/github/codingyogini-om/hello-world/blob/main/202101_Python_Beginnner_Lektion_1.ipynb\" target=\"_parent\"><img src=\"https://colab.research.google.com/assets/colab-badge.svg\" alt=\"Open In Colab\"/></a>"
      ]
    },
    {
      "cell_type": "markdown",
      "metadata": {
        "id": "Cuniu6ek_ugF"
      },
      "source": [
        "# Python Beginner - Lektion 1\n",
        "Hello World, Variablen, Bedingungen, Schleifen"
      ]
    },
    {
      "cell_type": "markdown",
      "metadata": {
        "id": "I7ILguciAjPK"
      },
      "source": [
        "## 1.1 Hello World\n",
        "Wenn man eine Programmiersprache lernt, ist es üblich zuerst ein Programm zu schreiben, dass \"Hello World\" sagt. Daher machen wir das jetzt auch - nur auf hamburger Art."
      ]
    },
    {
      "cell_type": "code",
      "metadata": {
        "id": "bg6wZYZ4AcfH",
        "outputId": "80b1ede7-2e88-481f-e18f-b84a607ae93d",
        "colab": {
          "base_uri": "https://localhost:8080/"
        }
      },
      "source": [
        "print(\"Moin World\")"
      ],
      "execution_count": 1,
      "outputs": [
        {
          "output_type": "stream",
          "text": [
            "Moin World\n"
          ],
          "name": "stdout"
        }
      ]
    },
    {
      "cell_type": "markdown",
      "metadata": {
        "id": "TfaXPDJDBFgi"
      },
      "source": [
        "Führt man diese Codezeile in [Thonny](/https://thonny.org/) aus, erscheint die Ausgabe in einem separaten Fenster namens \"Shell\". Die shell ist eine rein textuelle **Benutzeroberfläche** um mit dem Computer zu arbeiten: Der Computer kann hier Ausgaben reinschreiben, und auch der Nutzer kann Text eingeben (das lernen wir später kennen). In diesem Fenster werden wir also die Ausgaben unserer Programme sehen, d.h. alles was durch den print-Befehl ausgegeben wird. Auch Fehlermeldungen erscheinen hier.\n",
        "\n",
        "`print` ist eine Funktion, das bedeutet das der **Print-Aufruf** ein bestimmtes Verhalten auslöst. Funktionen werden wir später genauer kennen lernen, und wir werden auch eigene Funktionen schreiben.\n",
        "\n",
        "Weiterhin ist `print` eine sogenannte Built-In Funktion, d.h. sie ist ein fester Bestandteil der Programmiersprache Python und ihr könnt jederzeit auf sie zugreifen. Sie gibt das Funktionsargument auf der Konsole (\"Shell\" in Thonny) aus. Es gibt eine Vielzahl von built-in Funktionen, einige davon werden wir auch noch im Kurs kennenlernen."
      ]
    },
    {
      "cell_type": "markdown",
      "metadata": {
        "id": "_h_nY6cL8KlC"
      },
      "source": [
        "## 1.2 Datentypen\n",
        "\n",
        "**Numerische Datentypen** sind:\n",
        "\n",
        "* für ganze Zahlen: `int` und `long`\n",
        "* für Gleitkommazahlen: `float`\n",
        "* für komplexe Zahlen: `complex`\n",
        "* für boolsche Werte: `bool`\n"
      ]
    },
    {
      "cell_type": "code",
      "metadata": {
        "id": "p6CIZAYmDKqB",
        "colab": {
          "base_uri": "https://localhost:8080/"
        },
        "outputId": "a920982c-6d0a-427d-93a8-f275794ccac6"
      },
      "source": [
        "print(type(1))\n",
        "print(type(1.0))\n",
        "print(type(1+2j))\n",
        "print(type(False))"
      ],
      "execution_count": null,
      "outputs": [
        {
          "output_type": "stream",
          "text": [
            "<class 'int'>\n",
            "<class 'float'>\n",
            "<class 'complex'>\n",
            "<class 'bool'>\n"
          ],
          "name": "stdout"
        }
      ]
    },
    {
      "cell_type": "markdown",
      "metadata": {
        "id": "uNpV3gi1B-oy"
      },
      "source": [
        "Mit der built-in Funktion `type` kann man sich jederzeit den Typ zu einem Literal ausgeben lassen.\n",
        "\n",
        "Tipp: In dem obigen code-block habe ich Funktionsaufrufe geschachtelt. Das kann man beliebig oft tun, geschachtelte Ausdrücke werden immer von innen nach aussen ausgewertet."
      ]
    },
    {
      "cell_type": "code",
      "metadata": {
        "id": "Fh30zglq-3Jj",
        "colab": {
          "base_uri": "https://localhost:8080/"
        },
        "outputId": "b59a5d68-1fcd-44ce-ec74-2e7b3b84affa"
      },
      "source": [
        "x = 1\n",
        "print(x)\n",
        "print(type(x))"
      ],
      "execution_count": null,
      "outputs": [
        {
          "output_type": "stream",
          "text": [
            "1\n",
            "<class 'int'>\n"
          ],
          "name": "stdout"
        }
      ]
    },
    {
      "cell_type": "markdown",
      "metadata": {
        "id": "kNk_o9k1-Vjq"
      },
      "source": [
        "Texte können vom Typ `str` und `unicode` sein. Ein sogenannter **String** wird durch eine Zeichenfolge innerhalb eines einfachen oder doppelten Hochkommata geschrieben. \n"
      ]
    },
    {
      "cell_type": "code",
      "metadata": {
        "id": "31iFCdvC_Mf5",
        "colab": {
          "base_uri": "https://localhost:8080/"
        },
        "outputId": "57a56c29-83d0-470e-f419-eef12c9ad0b7"
      },
      "source": [
        "x = \"Moin world\"\n",
        "print(x)\n",
        "print(type(x))"
      ],
      "execution_count": null,
      "outputs": [
        {
          "output_type": "stream",
          "text": [
            "Moin world\n",
            "<class 'str'>\n"
          ],
          "name": "stdout"
        }
      ]
    },
    {
      "cell_type": "markdown",
      "metadata": {
        "id": "wxwsItrA_cgj"
      },
      "source": [
        "Der String darf in diesem Format zwar Leerzeichen, aber keine Zeilenumbrüche enthalten. Dafür kann man dreifache Hochkommata nutzen."
      ]
    },
    {
      "cell_type": "code",
      "metadata": {
        "id": "65w49F6C_WIa"
      },
      "source": [
        "x = \"\"\"Hello world!\n",
        "Moin world!\n",
        "How are your?\"\"\""
      ],
      "execution_count": null,
      "outputs": []
    },
    {
      "cell_type": "code",
      "metadata": {
        "id": "m3WPEs7sAE6a",
        "colab": {
          "base_uri": "https://localhost:8080/",
          "height": 35
        },
        "outputId": "40814eeb-e6c8-404b-80d5-296917ff0e93"
      },
      "source": [
        "x"
      ],
      "execution_count": null,
      "outputs": [
        {
          "output_type": "execute_result",
          "data": {
            "application/vnd.google.colaboratory.intrinsic+json": {
              "type": "string"
            },
            "text/plain": [
              "'Hello world!\\nMoin world!\\nHow are your?'"
            ]
          },
          "metadata": {
            "tags": []
          },
          "execution_count": 9
        }
      ]
    },
    {
      "cell_type": "code",
      "metadata": {
        "id": "XdikZib1AF7q",
        "colab": {
          "base_uri": "https://localhost:8080/"
        },
        "outputId": "4a5d8981-83e6-4907-ea96-67185fcc15f9"
      },
      "source": [
        "print(x)"
      ],
      "execution_count": null,
      "outputs": [
        {
          "output_type": "stream",
          "text": [
            "Hello world!\n",
            "Moin world!\n",
            "How are your?\n"
          ],
          "name": "stdout"
        }
      ]
    },
    {
      "cell_type": "code",
      "metadata": {
        "id": "ueHrtpVlAIsx",
        "colab": {
          "base_uri": "https://localhost:8080/"
        },
        "outputId": "eb9525ac-8da1-4a82-8ca7-6cf5850ad059"
      },
      "source": [
        "type(x)"
      ],
      "execution_count": null,
      "outputs": [
        {
          "output_type": "execute_result",
          "data": {
            "text/plain": [
              "str"
            ]
          },
          "metadata": {
            "tags": []
          },
          "execution_count": 11
        }
      ]
    },
    {
      "cell_type": "markdown",
      "metadata": {
        "id": "YIGS3rCzAnlN"
      },
      "source": [
        "Wenn man es genau nimmt, sind Strings sequentuelle Datentypen, deren Elemente einzelne Character sind. In die Kategorie der sequenziellen Datentypen fallen Datentypen, die Folgen von Elementen zusammenfassen. Die Elemente müssen nicht zwingend vom gleichen Datentyp sein. Innerhalb des sequenziellen Datentyps haben die Elemente aber eine definierte Reihenfolge. Auf die Elemente kann über einen Index zugegriffen werden. Andere sequentielle Datentypen sind:\n",
        "\n",
        "* Listen `list`\n",
        "* Tuple `tuple`\n",
        "\n",
        "Diese Datentypen und weitere (Dictionaries `dict` und Mengen `set`) schauen wir uns noch im Verlaufe des Kurses an."
      ]
    },
    {
      "cell_type": "markdown",
      "metadata": {
        "id": "1ZjGUU5xBy7t"
      },
      "source": [
        "## 1.3 Variablen\n",
        "\n",
        "Variablen sind ein weiterer wichtiger Bestandteil von Python-Programmen. Sie sind Platzhalter. Zum Beispiel können sie eine Zeichenkette oder Zahl als Wert enthalten. Werte von Variablen können sich mit der Zeit ändern. Sie werden mit der Schreibweise `platzhaltername = wert` deklariert. **Variablennamen** dürfen Buchstaben, Unterstriche und Zahlen enthalten (vobei das erste Zeichen des Variablennamens keine Zahl sein darf)."
      ]
    },
    {
      "cell_type": "code",
      "metadata": {
        "id": "rZt_FiMOAKqp",
        "colab": {
          "base_uri": "https://localhost:8080/"
        },
        "outputId": "b84e28d4-e0bd-488f-e454-76a80dae1907"
      },
      "source": [
        "gruß = \"Moin\"\n",
        "name = \"World\"\n",
        "\n",
        "print(gruß)   # Aktueller wert ist 'Moin'\n",
        "print(name)\n",
        "\n",
        "gruß = \"Hello\"  # Wert des Platzhalters wird hier verändert\n",
        "\n",
        "print(gruß) # Jetzt wird 'Hello' ausgegeben\n",
        "print(name)"
      ],
      "execution_count": null,
      "outputs": [
        {
          "output_type": "stream",
          "text": [
            "Moin\n",
            "World\n",
            "Hello\n",
            "World\n"
          ],
          "name": "stdout"
        }
      ]
    },
    {
      "cell_type": "markdown",
      "metadata": {
        "id": "XlhBm3g3DkxN"
      },
      "source": [
        "Variablen kann man genau so gut mit numerischen Werten belegen."
      ]
    },
    {
      "cell_type": "code",
      "metadata": {
        "id": "_RioWiodC_Oy",
        "colab": {
          "base_uri": "https://localhost:8080/"
        },
        "outputId": "cca496b6-2fb0-48d5-aa68-65fc53867cb1"
      },
      "source": [
        "zahl = 42.0\n",
        "print(zahl)"
      ],
      "execution_count": null,
      "outputs": [
        {
          "output_type": "stream",
          "text": [
            "42.0\n"
          ],
          "name": "stdout"
        }
      ]
    },
    {
      "cell_type": "markdown",
      "metadata": {
        "id": "3We_tKjfD6Uj"
      },
      "source": [
        "Zahlen können auch von Zeichenketten überschrieben werden."
      ]
    },
    {
      "cell_type": "code",
      "metadata": {
        "id": "xuoCro4FBKs7",
        "colab": {
          "base_uri": "https://localhost:8080/"
        },
        "outputId": "aeb47d96-c82f-49dc-be24-5d2de9e1acec"
      },
      "source": [
        "zahl = \"Dies ist eine Zeichenkette\"\n",
        "print(zahl)"
      ],
      "execution_count": null,
      "outputs": [
        {
          "output_type": "stream",
          "text": [
            "Dies ist eine Zeichenkette\n"
          ],
          "name": "stdout"
        }
      ]
    },
    {
      "cell_type": "markdown",
      "metadata": {
        "id": "ygrzeNzUEAq0"
      },
      "source": [
        "## 1.4 Basisoperationen\n",
        "Zahlen und Zeichenketten im Program zu haben ist ja schön und gut, aber was können wir damit anstellen? Mit Zahlen können wir z.B. rechnen, in der üblichen Schreibweise."
      ]
    },
    {
      "cell_type": "code",
      "metadata": {
        "id": "CInLyv4AD4rZ",
        "colab": {
          "base_uri": "https://localhost:8080/"
        },
        "outputId": "a43322e6-6676-4429-882a-6354f619f2c9"
      },
      "source": [
        "x = 10\n",
        "y = 20\n",
        "\n",
        "print(x + y)\n",
        "\n",
        "z = x + y\n",
        "\n",
        "print(z + 2)\n",
        "print(2 * 2)\n",
        "print(5 - 2)\n",
        "print(12 / 4)\n",
        "print(12 // 4)  # Ganz-zahlige Division\n",
        "print(10 * (20 + 5))  # Ausdrücke können beliebig geklammert werden"
      ],
      "execution_count": null,
      "outputs": [
        {
          "output_type": "stream",
          "text": [
            "30\n",
            "32\n",
            "4\n",
            "3\n",
            "3.0\n",
            "3\n",
            "250\n"
          ],
          "name": "stdout"
        }
      ]
    },
    {
      "cell_type": "markdown",
      "metadata": {
        "id": "GgXM6609Ef17"
      },
      "source": [
        "Neben der Grundrechenarten gibt es noch ein paar weitere Operatoren."
      ]
    },
    {
      "cell_type": "code",
      "metadata": {
        "id": "oZXNMDlvEPt6",
        "colab": {
          "base_uri": "https://localhost:8080/"
        },
        "outputId": "409489ec-8f16-4256-8909-5d2bc4b44935"
      },
      "source": [
        "print(13 % 5) # Modulo\n",
        "print(4 ** 4) # Potenz"
      ],
      "execution_count": null,
      "outputs": [
        {
          "output_type": "stream",
          "text": [
            "3\n",
            "256\n"
          ],
          "name": "stdout"
        }
      ]
    },
    {
      "cell_type": "code",
      "metadata": {
        "id": "ii9tB9pAEiMq",
        "colab": {
          "base_uri": "https://localhost:8080/"
        },
        "outputId": "7e3a9f47-ac5b-47d0-d4bc-f01013d5f116"
      },
      "source": [
        "print(0.1 + 0.2)"
      ],
      "execution_count": null,
      "outputs": [
        {
          "output_type": "stream",
          "text": [
            "0.30000000000000004\n"
          ],
          "name": "stdout"
        }
      ]
    },
    {
      "cell_type": "markdown",
      "metadata": {
        "id": "jyTQnNLkFaRK"
      },
      "source": [
        "Warum kommt bei 0.1 + 0.2 so ein krummes Ergebnis raus? Die innere Darstellung von Gleitkommazahlen erfolgt in einem binären Bruch, sodass weder 0.1 noch 0.2 exakt dargestellt werden können. Summiert man beide Zahlen, addiert sich auch der Fehler.\n",
        "\n",
        "Beachtet, dass dies in der Natur des binären Gleitkommas liegt: Dies ist kein Fehler in Python (oder Perl, C, C ++, Java, Fortran und vielen anderen), und es ist auch kein Fehler in Deinem Code. Das passiert in allen Sprachen, die Gleitkomma-Arithmetik nutzen."
      ]
    },
    {
      "cell_type": "markdown",
      "metadata": {
        "id": "DCfJ0wGe-UKr"
      },
      "source": [
        "Hier nochmal zusammengefasst, wie man print benutzen kann:"
      ]
    },
    {
      "cell_type": "code",
      "metadata": {
        "colab": {
          "base_uri": "https://localhost:8080/"
        },
        "id": "mB2wTo_B-al8",
        "outputId": "f4da4f3e-f762-40d5-eb09-d295bee00643"
      },
      "source": [
        "x = 12\r\n",
        "print(1.0)\r\n",
        "print(x)\r\n",
        "print(x+2)\r\n",
        "\r\n",
        "name = \"Josefine\"\r\n",
        "print(\"Hallo\")\r\n",
        "print(\"Hallo \" + name)\r\n",
        "print(\"Hallo\", name)\r\n",
        "\r\n",
        "print(\"Das ist eine Zahl\", x)\r\n",
        "print(\"Das ist eine Zahl \" + str(x))\r\n"
      ],
      "execution_count": null,
      "outputs": [
        {
          "output_type": "stream",
          "text": [
            "1.0\n",
            "12\n",
            "14\n",
            "Hallo\n",
            "Hallo Josefine\n",
            "Hallo Josefine\n",
            "Das ist eine Zahl 12\n",
            "Das ist eine Zahl 12\n"
          ],
          "name": "stdout"
        }
      ]
    },
    {
      "cell_type": "markdown",
      "metadata": {
        "id": "tdMd0XdjHbAr"
      },
      "source": [
        "## Übung 1.A Kleine Aufgaben"
      ]
    },
    {
      "cell_type": "markdown",
      "metadata": {
        "id": "G-91_hRz2hne"
      },
      "source": [
        "a) Definiere Deinen Namen in einer Variable.\n",
        "\n",
        "b) Gebe den Text *Mein Name ist \\<Name\\>* aus."
      ]
    },
    {
      "cell_type": "code",
      "metadata": {
        "id": "VJhUWzwK5QNp"
      },
      "source": [
        ""
      ],
      "execution_count": null,
      "outputs": []
    },
    {
      "cell_type": "code",
      "metadata": {
        "id": "5VnzTgwr7g1j"
      },
      "source": [
        ""
      ],
      "execution_count": null,
      "outputs": []
    },
    {
      "cell_type": "markdown",
      "metadata": {
        "id": "Y2LpDWMhoU6l"
      },
      "source": [
        "c) Definiere dir zwei Variablen, die jeweils eine Zahl beinhalten. Gib danach die Summe und das Produkt aus."
      ]
    },
    {
      "cell_type": "code",
      "metadata": {
        "id": "f3CXCQEGoUVm"
      },
      "source": [
        ""
      ],
      "execution_count": null,
      "outputs": []
    },
    {
      "cell_type": "markdown",
      "metadata": {
        "id": "Dtpk7MZRot5d"
      },
      "source": [
        "d) Verändere den Inhalt einer der beiden Variablen unterhalb des bestehenden Codes und rechne danach erneut die Summe aus."
      ]
    },
    {
      "cell_type": "code",
      "metadata": {
        "id": "jXknGlTXotCc"
      },
      "source": [
        ""
      ],
      "execution_count": null,
      "outputs": []
    },
    {
      "cell_type": "markdown",
      "metadata": {
        "id": "66X2JYmtm52Q"
      },
      "source": [
        "e) Addiere alle Zahlen von 1 bis 10. Schreibe das Ergebnis in eine Variable und printe es danach aus."
      ]
    },
    {
      "cell_type": "code",
      "metadata": {
        "id": "hazcJ2nc7hAi",
        "colab": {
          "base_uri": "https://localhost:8080/"
        },
        "outputId": "0920eafb-ebe3-436d-e4c9-b01ee6102474"
      },
      "source": [
        "summe = 1 +2+ 3\r\n",
        "\r\n",
        "print(summe)"
      ],
      "execution_count": null,
      "outputs": [
        {
          "output_type": "stream",
          "text": [
            "6\n"
          ],
          "name": "stdout"
        }
      ]
    },
    {
      "cell_type": "markdown",
      "metadata": {
        "id": "rqqFdGfz2BAh"
      },
      "source": [
        "## Übung 1.B Jahrmarkt-Rechnung"
      ]
    },
    {
      "cell_type": "markdown",
      "metadata": {
        "id": "8DyqOOj_Hk-7"
      },
      "source": [
        "Angenommen Du hast 15 Euro dabei und willst damit eine Schokolade, zwei Lolli und zwei Achterbahnfahrten kaufen. Wieviel Rückgeld bekommst Du?\n",
        "\n",
        "Beginne damit Variablen für die einzelnen Preise zu deklarieren. Das Ergebnis soll auch einer Variable zugewiesen und dann ausgegeben werden."
      ]
    },
    {
      "cell_type": "markdown",
      "metadata": {
        "id": "ujX4_TwQHnhS"
      },
      "source": [
        "|Produkt | Stück  | Preis pro Stück|\n",
        "|---|---|---|\n",
        "|Lolli | 2  | 1.5 |\n",
        "|Schokolade | 1  | 3 |\n",
        "|Achterbahn | 2  | 2.5 |"
      ]
    },
    {
      "cell_type": "markdown",
      "metadata": {
        "id": "pbfheW_nHnOJ"
      },
      "source": [
        "Korrektur-Hilfe: 4.00€"
      ]
    },
    {
      "cell_type": "code",
      "metadata": {
        "id": "hu32DTDHK4je",
        "colab": {
          "base_uri": "https://localhost:8080/"
        },
        "outputId": "df491879-6bcc-4d94-8695-08a761791dd1"
      },
      "source": [
        "lolli = 1.5\r\n",
        "schoko = 3.0\r\n",
        "achterbahn = 2.5\r\n",
        "\r\n",
        "rest = 15 - (2*lolli + schoko + 2*achterbahn)\r\n",
        "print(rest)\r\n"
      ],
      "execution_count": null,
      "outputs": [
        {
          "output_type": "stream",
          "text": [
            "4.0\n"
          ],
          "name": "stdout"
        }
      ]
    },
    {
      "cell_type": "markdown",
      "metadata": {
        "id": "1rESh1BpJuRk"
      },
      "source": [
        "Erweiterung: Gib eine einfache Rechnung als Text aus.\n",
        "Tipp: Mit `str(42)` wandelst du eine Zahl in Text um.\n",
        "\n",
        "Das Ergebnis könnte z.B. so aussehen:\n",
        "\n",
        "\\----------------------------\n",
        "\n",
        "Rechnung:\n",
        "\n",
        "\\----------------------------\n",
        "\n",
        "Lolli: 3€\n",
        "\n",
        "Schokolade: 3€\n",
        "\n",
        "Achterbahn: 5€\n",
        "\n",
        "\\----------------------------\n",
        "\n",
        "Gesamt: 11€\n",
        "\n",
        "Rückgeld: 4€\n",
        "\n",
        "\\----------------------------"
      ]
    },
    {
      "cell_type": "code",
      "metadata": {
        "id": "pcLy1tlQGodC",
        "colab": {
          "base_uri": "https://localhost:8080/"
        },
        "outputId": "ef95896f-2931-4f97-b8f2-3170574190fc"
      },
      "source": [
        "linie = \"-\" * 20\r\n",
        "\r\n",
        "print(linie)\r\n",
        "print(\"Rechnung\")\r\n",
        "print(linie)\r\n",
        "print(\"Lolli: \" + str(round(lolli * 2)) + \"€\" )"
      ],
      "execution_count": null,
      "outputs": [
        {
          "output_type": "stream",
          "text": [
            "--------------------\n",
            "Rechnung\n",
            "--------------------\n",
            "Lolli: 3€\n"
          ],
          "name": "stdout"
        }
      ]
    },
    {
      "cell_type": "markdown",
      "metadata": {
        "id": "NQA2GlgIOIn-"
      },
      "source": [
        "## 1.5 Bedingungen\n",
        "\n",
        "Häufig möchte man, dass sich ein Programm verschieden verhält je nachdem ob eine bestimmte Bedingung wahr ist, oder nicht. Eine Wahrheitsaussage wird in Python über einen besonderen Datentypen modelliert, den sogenannten 'Boolean' (benannt nach dem Mathematiker George Boole). Dieser Datentyp kann nur zwei Werte annehmen: `True` und False."
      ]
    },
    {
      "cell_type": "code",
      "metadata": {
        "id": "EW1OBcLuO32S",
        "colab": {
          "base_uri": "https://localhost:8080/"
        },
        "outputId": "d40c3df6-228f-40f9-9c7f-42834d5a5ce4"
      },
      "source": [
        "print(type(False))"
      ],
      "execution_count": null,
      "outputs": [
        {
          "output_type": "stream",
          "text": [
            "<class 'bool'>\n"
          ],
          "name": "stdout"
        }
      ]
    },
    {
      "cell_type": "markdown",
      "metadata": {
        "id": "h17DQuQkKULs"
      },
      "source": [
        "Eine **if-Anweisung** nimmt einen Wahrheitswert entgegen, und führt den darauffolgenden eingerückten Code-Block nur aus, wenn dieser Wert `True` ist. In einer **else**-Anweisung kann der Codeblock angegeben werden, der alternativ ausgeführt werden soll."
      ]
    },
    {
      "cell_type": "code",
      "metadata": {
        "id": "yzwErE3PKTkk",
        "colab": {
          "base_uri": "https://localhost:8080/"
        },
        "outputId": "3b11bdbb-724f-48d4-b1a3-c64678ff7c5a"
      },
      "source": [
        "es_ist_heiss = True\n",
        "\n",
        "if es_ist_heiss:\n",
        "    print(\"Sonne\")"
      ],
      "execution_count": null,
      "outputs": [
        {
          "output_type": "stream",
          "text": [
            "Sonne\n"
          ],
          "name": "stdout"
        }
      ]
    },
    {
      "cell_type": "code",
      "metadata": {
        "id": "O-0jUa5IKgct",
        "colab": {
          "base_uri": "https://localhost:8080/"
        },
        "outputId": "870996ad-6d7a-4856-ec0d-88f64a34a5da"
      },
      "source": [
        "es_ist_heiss = False\n",
        "\n",
        "if es_ist_heiss:\n",
        "    print(\"Sonne\")\n",
        "else:\n",
        "    print(\"Schnee\")"
      ],
      "execution_count": null,
      "outputs": [
        {
          "output_type": "stream",
          "text": [
            "Schnee\n"
          ],
          "name": "stdout"
        }
      ]
    },
    {
      "cell_type": "markdown",
      "metadata": {
        "id": "ePrlT5aaK1zt"
      },
      "source": [
        "Wahrheitswerte lassen sich auch aus Vorbedingungen berechnen. Zum Beispiel durch einen Zahlenvergleich.\n",
        "\n",
        "**Vergleichsoperatoren**: <, <=, >, >=, !=, ==\n",
        "\n",
        "Übrigens können die gleichen Operatoren auch für den Vergleich von Strings genutzt werden.\n",
        "\n",
        "Achtung! Das einface = nutzt man für Variablenzuweisung. Das doppelte == nutzt man für einen Vergleich.\n",
        "\n",
        "\n"
      ]
    },
    {
      "cell_type": "code",
      "metadata": {
        "colab": {
          "base_uri": "https://localhost:8080/"
        },
        "id": "xA5iwBT-rWL4",
        "outputId": "fd922425-8704-4cb1-8eb3-613e0c3a0edd"
      },
      "source": [
        "temperatur = 20\n",
        "\n",
        "print(temperatur)\n",
        "print(temperatur == 20)\n",
        "print(temperatur == 21)"
      ],
      "execution_count": null,
      "outputs": [
        {
          "output_type": "stream",
          "text": [
            "20\n",
            "True\n",
            "False\n"
          ],
          "name": "stdout"
        }
      ]
    },
    {
      "cell_type": "code",
      "metadata": {
        "id": "6UNqSpNXLq_Q",
        "colab": {
          "base_uri": "https://localhost:8080/"
        },
        "outputId": "88362baf-80e1-4ed9-9c9a-dfaa35dff25f"
      },
      "source": [
        "temperatur = -5\n",
        "if temperatur <= 0:\n",
        "    print (\"Schnee\")\n",
        "\n",
        "if temperatur < 20:\n",
        "    print(\"Regen\")\n",
        "\n",
        "if temperatur >= 20:\n",
        "    print(\"Sonne\")"
      ],
      "execution_count": null,
      "outputs": [
        {
          "output_type": "stream",
          "text": [
            "Schnee\n",
            "Regen\n"
          ],
          "name": "stdout"
        }
      ]
    },
    {
      "cell_type": "markdown",
      "metadata": {
        "id": "5hlMg8yJMWQe"
      },
      "source": [
        "Mit der **elif** Anweisung können wir beliebig viele Bedingungen hintereinander prüfen. So lässt sich das Temperatur-Beispiel von eben viel einfacher aufschreiben."
      ]
    },
    {
      "cell_type": "code",
      "metadata": {
        "id": "1_Z8szcVMVv3",
        "colab": {
          "base_uri": "https://localhost:8080/"
        },
        "outputId": "e187024f-ad29-4c0f-d48b-f7f951e2b990"
      },
      "source": [
        "temperatur = -5\n",
        "if temperatur < 10:\n",
        "    print(\"Temperatur ist kleiner als 10\")\n",
        "elif temperatur < 20:\n",
        "    print(\"Temperatur ist kleiner als 20\")\n",
        "else:\n",
        "    print(\"Temperatur ist größer oder gleich 20\")"
      ],
      "execution_count": null,
      "outputs": [
        {
          "output_type": "stream",
          "text": [
            "Temperatur ist kleiner als 10\n"
          ],
          "name": "stdout"
        }
      ]
    },
    {
      "cell_type": "markdown",
      "metadata": {
        "id": "6HT686OSMmJF"
      },
      "source": [
        "Mit **or**, **and** und **not** können wir Bedingungen auch verknüpfen:"
      ]
    },
    {
      "cell_type": "code",
      "metadata": {
        "id": "L2IjTWjJMiMF",
        "colab": {
          "base_uri": "https://localhost:8080/"
        },
        "outputId": "9da65181-9960-44b4-bc33-7b67e3aef43c"
      },
      "source": [
        "print(True and True)\n",
        "print(True and False)\n",
        "print(True or False)\n",
        "print(not False)"
      ],
      "execution_count": null,
      "outputs": [
        {
          "output_type": "stream",
          "text": [
            "True\n",
            "False\n",
            "True\n",
            "True\n"
          ],
          "name": "stdout"
        }
      ]
    },
    {
      "cell_type": "markdown",
      "metadata": {
        "id": "NInOL4dSOfPX"
      },
      "source": [
        "## 1.6 Schleifen\n",
        "\n",
        "Schleifen sind immer nützlich, wenn man Dinge wiederholt machen möchte. Zum Beispiel wäre es ziemlich nervig eine Codezeile für jeden User zu schreiben, dem man eine E-Mail schicken will. Mit Schleifen ist sowas aber kein Problem. **while**-Schleifen führen einen Codeblock aus, solange eine Bedingung wahr ist."
      ]
    },
    {
      "cell_type": "code",
      "metadata": {
        "id": "lpnpNeyPORAv",
        "colab": {
          "base_uri": "https://localhost:8080/"
        },
        "outputId": "4c1ce5b0-95cd-4c22-a5e1-981134d925dd"
      },
      "source": [
        "zahl = 1\n",
        "while zahl <= 10: # während i kleiner oder gleich 10 ist\n",
        "    print(zahl)\n",
        "    zahl += 1 # erhöht i um 1. Kurzschreibweise für zahl = zahl + 1\n",
        "\n",
        "print(\"Ende\")"
      ],
      "execution_count": null,
      "outputs": [
        {
          "output_type": "stream",
          "text": [
            "1\n",
            "2\n",
            "3\n",
            "4\n",
            "5\n",
            "6\n",
            "7\n",
            "8\n",
            "9\n",
            "10\n",
            "Ende\n"
          ],
          "name": "stdout"
        }
      ]
    },
    {
      "cell_type": "code",
      "metadata": {
        "id": "P1Hzp2HGKz2F",
        "colab": {
          "base_uri": "https://localhost:8080/"
        },
        "outputId": "750a6b89-f949-4a89-dd05-f17437866b15"
      },
      "source": [
        "# Nur ungerade Zahlen?\n",
        "# In Thonny mit dem Debugger ausprobieren\n",
        "\n",
        "i = 1\n",
        "while i <= 10: # während i kleiner oder gleich 10 ist\n",
        "    print(i)\n",
        "    i += 2"
      ],
      "execution_count": null,
      "outputs": [
        {
          "output_type": "stream",
          "text": [
            "1\n",
            "3\n",
            "5\n",
            "7\n",
            "9\n"
          ],
          "name": "stdout"
        }
      ]
    },
    {
      "cell_type": "markdown",
      "metadata": {
        "id": "f1g-npcJQTiH"
      },
      "source": [
        "Der Ablauf einer Schleife wird [in dieser Animation](https://blog.penjee.com/wp-content/uploads/2015/03/while-loop-animation-python.gif) ganz anschaulich dargestellt.\n",
        "\n",
        "Schleifen umspannen beliebige Code-Blöcke, zum Beispiel kann eine Schleife wieder eine Schleife oder eine If-Else Anweisung enthalten."
      ]
    },
    {
      "cell_type": "code",
      "metadata": {
        "id": "08ii7mIOQqlr",
        "colab": {
          "base_uri": "https://localhost:8080/"
        },
        "outputId": "e1347df2-b2cd-4d0f-fc62-6da4642371b3"
      },
      "source": [
        "a = 1\n",
        "while a < 7:\n",
        "    if a % 2 == 0:\n",
        "        print(a, \"ist gerade\")\n",
        "    else:\n",
        "        print(a, \"ist ungerade\")\n",
        "    a += 1"
      ],
      "execution_count": null,
      "outputs": [
        {
          "output_type": "stream",
          "text": [
            "1 ist ungerade\n",
            "2 ist gerade\n",
            "3 ist ungerade\n",
            "4 ist gerade\n",
            "5 ist ungerade\n",
            "6 ist gerade\n"
          ],
          "name": "stdout"
        }
      ]
    },
    {
      "cell_type": "markdown",
      "metadata": {
        "id": "sm1o2Sl8Q4zG"
      },
      "source": [
        "Es gibt weitere Arten von Schleifen. Diese schauen wir uns später an."
      ]
    },
    {
      "cell_type": "markdown",
      "metadata": {
        "id": "mqukl_dRQ1ZP"
      },
      "source": [
        "## 1.7 Kommentare\n",
        "\n",
        "Alles hinter einem '#' wird von python ignoriert, so können wir Kommentare schreiben und den Code erklärend beschreiben."
      ]
    },
    {
      "cell_type": "code",
      "metadata": {
        "id": "kLNHD5oCQH3v"
      },
      "source": [
        "print(\"Moin world\") # Dieser Funktionsaufruf gibt Text auf der Konsole aus."
      ],
      "execution_count": null,
      "outputs": []
    },
    {
      "cell_type": "markdown",
      "metadata": {
        "id": "NgqRphMY6VTn"
      },
      "source": [
        "## Übung 1.C Bedingungen & Schleifen"
      ]
    },
    {
      "cell_type": "markdown",
      "metadata": {
        "id": "q5c_xINMrjh0"
      },
      "source": [
        "a) Definiere eine Variable `age` mit einem beliebigem Wert. In einer Bedinung soll dann abhängig vom Alter ausgegeben werden, ob es sich um ein Kind oder einen Erwachsenen handelt (bis 18 Kind, danach Erwachsen)."
      ]
    },
    {
      "cell_type": "code",
      "metadata": {
        "id": "skJGh7wurjCV"
      },
      "source": [
        ""
      ],
      "execution_count": null,
      "outputs": []
    },
    {
      "cell_type": "markdown",
      "metadata": {
        "id": "rUf1gwDCsUe6"
      },
      "source": [
        "b) Ändere die Bedingung so ab, dass eine Person zwischen 14-18 als \"Jugendlicher\" gilt."
      ]
    },
    {
      "cell_type": "code",
      "metadata": {
        "id": "3MsCuhlWsfWz"
      },
      "source": [
        ""
      ],
      "execution_count": null,
      "outputs": []
    },
    {
      "cell_type": "markdown",
      "metadata": {
        "id": "sjVKvjHDsnUD"
      },
      "source": [
        "c) Schreibe eine Schleife, die Zahlen bis inkl. 10 hochzählt und in jedem Durchlauf ausgibt (print)."
      ]
    },
    {
      "cell_type": "code",
      "metadata": {
        "id": "RPz47WwPs8YJ"
      },
      "source": [
        ""
      ],
      "execution_count": null,
      "outputs": []
    },
    {
      "cell_type": "markdown",
      "metadata": {
        "id": "uIV0kUWTs9kc"
      },
      "source": [
        "d) Nun zähle in 2er-Schritten bis inklusive 10 hoch."
      ]
    },
    {
      "cell_type": "code",
      "metadata": {
        "id": "silfZ4T_s82_"
      },
      "source": [
        ""
      ],
      "execution_count": null,
      "outputs": []
    },
    {
      "cell_type": "markdown",
      "metadata": {
        "id": "U4CHliOZtHD1"
      },
      "source": [
        "e) Zähle in 1er Schritten bis 30, aber anstatt jeder Zahl, die durch 3 teilbar ist, gebe \"piep\" aus.\r\n",
        "\r\n",
        "\r\n",
        "\r\n",
        "```\r\n",
        "1\r\n",
        "2\r\n",
        "piep\r\n",
        "4\r\n",
        "5\r\n",
        "piep\r\n",
        "...\r\n",
        "```\r\n",
        "\r\n"
      ]
    },
    {
      "cell_type": "code",
      "metadata": {
        "id": "5HpvSwo7tck7"
      },
      "source": [
        ""
      ],
      "execution_count": null,
      "outputs": []
    },
    {
      "cell_type": "markdown",
      "metadata": {
        "id": "OxsX28iVpIIC"
      },
      "source": [
        "f) Addiere alle Zahlen von 1 bis 100. (Bevor Du alles tippst, kannst Du ja eine Schleife probieren)"
      ]
    },
    {
      "cell_type": "code",
      "metadata": {
        "id": "KNByuiNr6niu"
      },
      "source": [
        ""
      ],
      "execution_count": null,
      "outputs": []
    },
    {
      "cell_type": "markdown",
      "metadata": {
        "id": "IgOpjbUeEWmO"
      },
      "source": [
        "g) Zusatz: Gib die Fibonacci-Folge bis maximal 100 aus, also 1, 2, 3, 5, 8, 13, ...\n",
        "\n",
        "Bei der Fibonnacci-Folge ergibt die Summe von zwei aufeinanderfolgenden Zahlen immer die nächste Zahl.\n",
        "\n",
        "Tipp: Achte ganz genau darauf, welchen Zahlen du dir bei der Berechnung merken musst. 2 Variablen reichen dabei nicht aus."
      ]
    },
    {
      "cell_type": "code",
      "metadata": {
        "id": "UzGGPIJ7TTIj"
      },
      "source": [
        ""
      ],
      "execution_count": null,
      "outputs": []
    }
  ]
}